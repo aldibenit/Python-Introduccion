{
 "cells": [
  {
   "cell_type": "code",
   "execution_count": null,
   "metadata": {
    "colab": {
     "base_uri": "https://localhost:8080/",
     "height": 34
    },
    "colab_type": "code",
    "id": "3s7Aiv--qJEP",
    "outputId": "e726d684-156e-4b1b-a16d-cf5677b83a43"
   },
   "outputs": [
    {
     "name": "stdout",
     "output_type": "stream",
     "text": [
      "hola mundo\n"
     ]
    }
   ],
   "source": [
    "print(\"hola mundo\")"
   ]
  },
  {
   "cell_type": "code",
   "execution_count": null,
   "metadata": {
    "colab": {
     "base_uri": "https://localhost:8080/",
     "height": 34
    },
    "colab_type": "code",
    "id": "FgMFopaFLjMv",
    "outputId": "58132f44-3d8c-4226-97fd-16d6969e8494"
   },
   "outputs": [
    {
     "name": "stdout",
     "output_type": "stream",
     "text": [
      "Hola Mundo\n"
     ]
    }
   ],
   "source": [
    "hola_mundo = \"Hola Mundo\"\n",
    "\n",
    "print(hola_mundo)"
   ]
  },
  {
   "cell_type": "code",
   "execution_count": null,
   "metadata": {
    "colab": {
     "base_uri": "https://localhost:8080/",
     "height": 34
    },
    "colab_type": "code",
    "id": "64KS0S8tNVPk",
    "outputId": "c02bad8e-fc24-4577-c549-f2d5c73e4a0c"
   },
   "outputs": [
    {
     "name": "stdout",
     "output_type": "stream",
     "text": [
      "hola mundo\n"
     ]
    }
   ],
   "source": [
    "holaMundo = \"hola mundo\"\n",
    "print(holaMundo)"
   ]
  },
  {
   "cell_type": "code",
   "execution_count": null,
   "metadata": {
    "colab": {
     "base_uri": "https://localhost:8080/",
     "height": 34
    },
    "colab_type": "code",
    "id": "wf0_oaY5Ni_i",
    "outputId": "99d03d3e-9ef8-4719-81ec-7e0448b2f33f"
   },
   "outputs": [
    {
     "name": "stdout",
     "output_type": "stream",
     "text": [
      "5\n"
     ]
    }
   ],
   "source": [
    "print(5)"
   ]
  },
  {
   "cell_type": "code",
   "execution_count": null,
   "metadata": {
    "colab": {
     "base_uri": "https://localhost:8080/",
     "height": 34
    },
    "colab_type": "code",
    "id": "IiP0XYyHNmmU",
    "outputId": "4648b467-f848-4a27-ba9b-52f6c29fea2d"
   },
   "outputs": [
    {
     "name": "stdout",
     "output_type": "stream",
     "text": [
      "5.58\n"
     ]
    }
   ],
   "source": [
    "print(5.58)"
   ]
  },
  {
   "cell_type": "code",
   "execution_count": null,
   "metadata": {
    "colab": {
     "base_uri": "https://localhost:8080/",
     "height": 34
    },
    "colab_type": "code",
    "id": "igmpt8lvNt2u",
    "outputId": "05e6fb2a-98f5-4cc3-d3ca-d7111770d2f8"
   },
   "outputs": [
    {
     "name": "stdout",
     "output_type": "stream",
     "text": [
      "15\n"
     ]
    }
   ],
   "source": [
    "print(5 + 10)"
   ]
  },
  {
   "cell_type": "code",
   "execution_count": null,
   "metadata": {
    "colab": {
     "base_uri": "https://localhost:8080/",
     "height": 34
    },
    "colab_type": "code",
    "id": "EMpDugowNy2K",
    "outputId": "115831bf-cbdd-47f8-fb28-77bdbd144b9a"
   },
   "outputs": [
    {
     "name": "stdout",
     "output_type": "stream",
     "text": [
      "15\n"
     ]
    }
   ],
   "source": [
    "suma = 5 + 10\n",
    "print(suma)"
   ]
  },
  {
   "cell_type": "code",
   "execution_count": null,
   "metadata": {
    "colab": {
     "base_uri": "https://localhost:8080/",
     "height": 34
    },
    "colab_type": "code",
    "id": "T9M7EpKPOEzp",
    "outputId": "496a342e-881c-4a5e-cea6-cb6b00db2808"
   },
   "outputs": [
    {
     "name": "stdout",
     "output_type": "stream",
     "text": [
      "15\n"
     ]
    }
   ],
   "source": [
    "print(5+10)"
   ]
  },
  {
   "cell_type": "code",
   "execution_count": 1,
   "metadata": {
    "colab": {
     "base_uri": "https://localhost:8080/",
     "height": 85
    },
    "colab_type": "code",
    "id": "8Sc_moDAMIGj",
    "outputId": "64880ed5-0dc0-4e43-d0e3-8cb6e4f24ba5"
   },
   "outputs": [
    {
     "name": "stdin",
     "output_type": "stream",
     "text": [
      "Ingrese su nombre:  Aldana\n",
      "Ingrese su apellido:  Benitez\n",
      "Ingrese su edad:  20\n"
     ]
    },
    {
     "name": "stdout",
     "output_type": "stream",
     "text": [
      "Aldana Benitez 20\n"
     ]
    }
   ],
   "source": [
    "nombre = input(\"Ingrese su nombre: \")\n",
    "apellido = input(\"Ingrese su apellido: \")\n",
    "edad = input(\"Ingrese su edad: \")\n",
    "print(nombre + \" \" + apellido + \" \" + edad)"
   ]
  },
  {
   "cell_type": "code",
   "execution_count": null,
   "metadata": {
    "colab": {
     "base_uri": "https://localhost:8080/",
     "height": 136
    },
    "colab_type": "code",
    "id": "OoR1ukBIPqCI",
    "outputId": "cacdea9a-ceb0-499b-f937-2215d2fa6c59"
   },
   "outputs": [
    {
     "name": "stdout",
     "output_type": "stream",
     "text": [
      "Ingrese 4 números por teclado:\n",
      "10\n",
      "8\n",
      "9\n",
      "-5\n",
      "18\n",
      "14\n"
     ]
    }
   ],
   "source": [
    "print(\"Ingrese 4 números por teclado:\")\n",
    "num1 = int(input())\n",
    "num2 = int(input())\n",
    "num3 = int(input())\n",
    "num4 = int(input())\n",
    "\n",
    "print(num1 + num2)\n",
    "print(num3 - num4)\n",
    "\n"
   ]
  },
  {
   "cell_type": "code",
   "execution_count": 2,
   "metadata": {
    "colab": {
     "base_uri": "https://localhost:8080/",
     "height": 85
    },
    "colab_type": "code",
    "id": "B6mjhwqMSne8",
    "outputId": "eb1cb7ce-318f-4931-ed05-887319e27857"
   },
   "outputs": [
    {
     "name": "stdout",
     "output_type": "stream",
     "text": [
      "Mi nombre es Aldana y mi apellido es Benitez\n",
      "Mi nombre es Aldana y mi apellido es Benitez\n",
      "Mi nombre es Aldana  y mi apellido es Benitez\n",
      "Mi nombre es Aldana y mi apellido es Benitez\n"
     ]
    }
   ],
   "source": [
    "nombre = \"Aldana\"\n",
    "apellido = \"Benitez\"\n",
    "\n",
    "# Formas de incluir una variable en un string \n",
    "\n",
    "print(f\"Mi nombre es {nombre} y mi apellido es {apellido}\")\n",
    "print(\"Mi nombre es {} y mi apellido es {}\".format(nombre, apellido))\n",
    "print(\"Mi nombre es\", nombre, \" y mi apellido es\", apellido)\n",
    "print(\"Mi nombre es \" + str(nombre) + \" y mi apellido es \" + str(apellido)) # recordar que el dato alojado en la variable debe ser str o debo convertirlo"
   ]
  },
  {
   "cell_type": "code",
   "execution_count": null,
   "metadata": {
    "colab": {},
    "colab_type": "code",
    "id": "G1fkyUexV5LB"
   },
   "outputs": [],
   "source": []
  },
  {
   "cell_type": "code",
   "execution_count": null,
   "metadata": {
    "colab": {
     "base_uri": "https://localhost:8080/",
     "height": 204
    },
    "colab_type": "code",
    "id": "zjSViApoUbpE",
    "outputId": "60b15830-a8b9-4c9b-bd61-30cde23604e8"
   },
   "outputs": [
    {
     "name": "stdout",
     "output_type": "stream",
     "text": [
      "Cálculos\n",
      "Realizar la suma entre 10 y 5\n",
      "La suma entre 10 y 5 es 15\n",
      "\n",
      "\n",
      "False\n",
      "True\n",
      "\n",
      "False\n",
      "True\n",
      "True\n"
     ]
    }
   ],
   "source": [
    "print(\"Cálculos\")\n",
    "num1 = 10\n",
    "num2 = 5\n",
    "num3 = 2\n",
    "\n",
    "print(f\"Realizar la suma entre {num1} y {num2}\")\n",
    "suma = num1 + num2\n",
    "print(f\"La suma entre {num1} y {num2} es {suma}\")\n",
    "print()\n",
    "print()\n",
    "print(num1 == num2)  # pregunto si num1 es exactamente igual a num2 --> booleano\n",
    "print(num1 != num3)  # pregunto si num1 es distinto de num3 --> booleano\n",
    "print()\n",
    "comparacion1 = num1 == num2\n",
    "comparacion2 = num1 != num3\n",
    "comparacion3 = comparacion1 and comparacion2\n",
    "comparacion4 = comparacion1 or comparacion2\n",
    "negacion = not comparacion1\n",
    "print(comparacion3)\n",
    "print(comparacion4)\n",
    "print(negacion)\n"
   ]
  },
  {
   "cell_type": "code",
   "execution_count": null,
   "metadata": {
    "colab": {
     "base_uri": "https://localhost:8080/",
     "height": 153
    },
    "colab_type": "code",
    "id": "neq3mHjpZ1_C",
    "outputId": "a0cef130-a49d-4b16-e424-a00fefab0d6e"
   },
   "outputs": [
    {
     "name": "stdout",
     "output_type": "stream",
     "text": [
      "Ingrese un número: 7\n",
      "7.0\n",
      "Ingrese un número: 8.8\n",
      "Ingrese un número: 9\n",
      "Ingrese un número: 7.56\n",
      "<class 'float'>\n",
      "<class 'float'>\n",
      "<class 'float'>\n"
     ]
    }
   ],
   "source": [
    "num1 = float(input(\"Ingrese un número: \"))\n",
    "print(num1)\n",
    "num2 = float(input(\"Ingrese un número: \"))\n",
    "num3 = float(input(\"Ingrese un número: \"))\n",
    "num4 = float(input(\"Ingrese un número: \"))\n",
    "\n",
    "suma = num1 + num2 + num3 + num4\n",
    "resta = num1 - num2 - num3 - num4\n",
    "prod = num1 * num2 * num3 * num4\n",
    "\n",
    "print(type(suma))\n",
    "print(type(resta))\n",
    "print(type(prod))"
   ]
  },
  {
   "cell_type": "code",
   "execution_count": 9,
   "metadata": {
    "colab": {},
    "colab_type": "code",
    "id": "ndWR-LOucnV_"
   },
   "outputs": [
    {
     "name": "stdout",
     "output_type": "stream",
     "text": [
      "Ingrese cuatro números por teclado: \n"
     ]
    },
    {
     "name": "stdin",
     "output_type": "stream",
     "text": [
      "0 1\n",
      "0 3\n",
      "0 6\n",
      "0 8\n"
     ]
    },
    {
     "name": "stdout",
     "output_type": "stream",
     "text": [
      "{'uno': '1', 'dos': '3', 'tres': '6', 'cuatro': '8'}\n"
     ]
    }
   ],
   "source": [
    "\"\"\"\n",
    "EJERCICIO: \n",
    "Escribir un programa que pida al usuario 5 números enteros por teclado, luego crear un diccionario que sea por ejemplo:\n",
    "numeros = {\"uno\": 1, \"dos\": 2, ...} teniendo en cuenta los números ingresados por teclado\n",
    "\n",
    "\"\"\"\n",
    "\n",
    "print(\"Ingrese cuatro números por teclado: \")\n",
    "num1 = input(int())\n",
    "num2 = input(int())\n",
    "num3 = input(int())\n",
    "num4 = input(int())\n",
    "\n",
    "diccionario = {\"uno\" : num1,\n",
    "              \"dos\" : num2,\n",
    "              \"tres\" : num3,\n",
    "              \"cuatro\" : num4\n",
    "}\n",
    "print(diccionario)"
   ]
  }
 ],
 "metadata": {
  "colab": {
   "collapsed_sections": [],
   "name": "Untitled0.ipynb",
   "provenance": []
  },
  "kernelspec": {
   "display_name": "Python 3",
   "language": "python",
   "name": "python3"
  },
  "language_info": {
   "codemirror_mode": {
    "name": "ipython",
    "version": 3
   },
   "file_extension": ".py",
   "mimetype": "text/x-python",
   "name": "python",
   "nbconvert_exporter": "python",
   "pygments_lexer": "ipython3",
   "version": "3.9.1"
  }
 },
 "nbformat": 4,
 "nbformat_minor": 4
}
