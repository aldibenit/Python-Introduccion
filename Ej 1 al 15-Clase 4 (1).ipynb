{
 "cells": [
  {
   "cell_type": "code",
   "execution_count": 1,
   "metadata": {
    "colab": {
     "base_uri": "https://localhost:8080/",
     "height": 34
    },
    "id": "L3AMYqghAZT5",
    "outputId": "7a94f55e-e968-4837-fbe8-92e8dda201da"
   },
   "outputs": [
    {
     "name": "stdout",
     "output_type": "stream",
     "text": [
      "¡Hola Mundo!\n"
     ]
    }
   ],
   "source": [
    "'''\n",
    "Ejercicio 1: \n",
    "Crear un programa que muestre por pantalla la cadena de texto \"¡Hola Mundo!\n",
    "'''\n",
    "\n",
    "print(\"¡Hola Mundo!\")"
   ]
  },
  {
   "cell_type": "code",
   "execution_count": 2,
   "metadata": {
    "colab": {
     "base_uri": "https://localhost:8080/",
     "height": 34
    },
    "id": "ojl0r3S1BPvx",
    "outputId": "5c2c19ac-fa52-4ee6-eae4-a09d362ac4b7"
   },
   "outputs": [
    {
     "name": "stdout",
     "output_type": "stream",
     "text": [
      "¡Hola Mundo!\n"
     ]
    }
   ],
   "source": [
    "'''\n",
    "Ejercicio 2: \n",
    "Crear un programa que almacene en una variable la cadena de texto \"¡Hola Mundo!\" \n",
    "y luego la muestre por pantalla.\n",
    "'''\n",
    "\n",
    "cadena_de_texto = \"¡Hola Mundo!\"\n",
    "print(cadena_de_texto)"
   ]
  },
  {
   "cell_type": "code",
   "execution_count": 4,
   "metadata": {
    "colab": {
     "base_uri": "https://localhost:8080/",
     "height": 136
    },
    "id": "i2UQH51RB42o",
    "outputId": "eb898665-8711-4368-bde0-6f34e265d8dc"
   },
   "outputs": [
    {
     "name": "stdin",
     "output_type": "stream",
     "text": [
      "Ingrese su nombre:  Aldana\n",
      "Ingrese su apellido:  Benitez\n",
      "Ingrese su edad:  20\n"
     ]
    },
    {
     "name": "stdout",
     "output_type": "stream",
     "text": [
      "\n",
      "\n",
      "Hola Aldana\n",
      "Tu edad es 20 años :D\n"
     ]
    }
   ],
   "source": [
    "'''\n",
    "Ejercicio 3:\n",
    "Crear un programa que pida al usuario su nombre y su edad y luego muestre por \n",
    "pantalla los siguientes mensajes en renglones distintos:\n",
    "Hola {nombre}\n",
    "Tu edad es {edad} años\n",
    "'''\n",
    "\n",
    "nombre = input(\"Ingrese su nombre: \")\n",
    "apellido = input(\"Ingrese su apellido: \")\n",
    "edad = int(input(\"Ingrese su edad: \"))\n",
    "print()\n",
    "print()\n",
    "print(f\"Hola {nombre}\")\n",
    "print(f\"Tu edad es {edad} años :D\")"
   ]
  },
  {
   "cell_type": "code",
   "execution_count": 5,
   "metadata": {
    "colab": {
     "base_uri": "https://localhost:8080/",
     "height": 68
    },
    "id": "AFZaIXq9Ec2i",
    "outputId": "4afdfebf-dcfa-43c2-c95c-a3fdc27612f7"
   },
   "outputs": [
    {
     "name": "stdin",
     "output_type": "stream",
     "text": [
      "Ingrese su nombre:  Aldana\n"
     ]
    },
    {
     "name": "stdout",
     "output_type": "stream",
     "text": [
      "\n",
      "Aldana tiene 6 letras\n"
     ]
    }
   ],
   "source": [
    "'''\n",
    "Ejercicio 4:\n",
    "Crear un programa que pida al usuario su nombre y muestre por pantalla \n",
    "cuántas letras tiene.\n",
    "'''\n",
    "\n",
    "nombre = input(\"Ingrese su nombre: \")\n",
    "print()\n",
    "print(nombre + \" tiene \" + str(len(nombre)) + \" letras\")"
   ]
  },
  {
   "cell_type": "code",
   "execution_count": null,
   "metadata": {
    "colab": {
     "base_uri": "https://localhost:8080/",
     "height": 35
    },
    "id": "tSE9XL81Sc2n",
    "outputId": "48f24e4b-9634-4eb1-8512-411fc905f2c5"
   },
   "outputs": [
    {
     "name": "stdout",
     "output_type": "stream",
     "text": [
      "144.0\n"
     ]
    }
   ],
   "source": [
    "'''\n",
    "Ejercicio 5:\n",
    "Crear un programa que realice la siguiente operación aritmética \n",
    "(3*8/2)2 y muestre por pantalla el resultado.\n",
    "'''\n",
    "\n",
    "print((3*8/2)**2)"
   ]
  },
  {
   "cell_type": "code",
   "execution_count": null,
   "metadata": {
    "colab": {
     "base_uri": "https://localhost:8080/",
     "height": 52
    },
    "id": "bA9nHgkdUBck",
    "outputId": "e264a394-c18f-4343-bb48-77134d44d72e"
   },
   "outputs": [
    {
     "name": "stdout",
     "output_type": "stream",
     "text": [
      "Introduzca un número: 10\n",
      "55\n"
     ]
    }
   ],
   "source": [
    "'''\n",
    "Ejercicio 6:\n",
    "Crear un programa que lea un entero positivo, n, introducido por el usuario \n",
    "y después muestre en pantalla la suma de todos los enteros desde 1 hasta n.\n",
    "'''\n",
    "\n",
    "num = int(input(\"Introduzca un número: \"))\n",
    "suma = 0 #se le asigna valor 0 a la variable para que no afecte el cálculo\n",
    "\n",
    "for i in range(1, num +1): #se va a comenzar la suma desde 1 hasta \"num\" (el numero introducido x el user) y se le va a sumar 1\n",
    "  suma += i #i es el identificador que se le da a la variable q se crea en el FOR\n",
    "\n",
    "print(suma)\n"
   ]
  },
  {
   "cell_type": "code",
   "execution_count": null,
   "metadata": {
    "colab": {
     "base_uri": "https://localhost:8080/",
     "height": 52
    },
    "id": "s56ug-YjhiBT",
    "outputId": "1a96991d-f51f-45b4-c0d9-095000e0ac4d"
   },
   "outputs": [
    {
     "name": "stdout",
     "output_type": "stream",
     "text": [
      "Introduzca el monto a invertir: $1000\n",
      "Su monto final será de: $1300\n"
     ]
    }
   ],
   "source": [
    "'''\n",
    "Ejercicio 7:\n",
    "Crear un programa que pida al usuario el monto a invertir y calcular cuánto \n",
    "dinero tendrá en su cuenta al cabo de 6 meses si el interés mensual es \n",
    "de 5%. Mostrar el resultado por pantalla.\n",
    "'''\n",
    "\n",
    "monto = float(input(\"Introduzca el monto a invertir: $\"))\n",
    "interes = 0.05 # el 5% se pasa a decimal para poder hacer la cuenta\n",
    "meses = 6\n",
    "print(\"Su monto final será de: $\" + str(round((monto * interes * meses) + monto)))"
   ]
  },
  {
   "cell_type": "code",
   "execution_count": null,
   "metadata": {
    "colab": {
     "base_uri": "https://localhost:8080/",
     "height": 69
    },
    "id": "WgXkO0Zp_nvU",
    "outputId": "0150f14c-43ca-4f86-f0e7-73a27c34e4e4"
   },
   "outputs": [
    {
     "name": "stdout",
     "output_type": "stream",
     "text": [
      "Ingrese su edad: 90\n",
      "\n",
      "Sos mayor de edad.\n"
     ]
    }
   ],
   "source": [
    "'''\n",
    "Ejercicio 8:\n",
    "Crear un programa que pida al usuario su edad y muestre por pantalla\n",
    "si es mayor de edad o no\n",
    "'''\n",
    "\n",
    "edad = int(input(\"Ingrese su edad: \"))\n",
    "print()\n",
    "if edad < 18:\n",
    "  print(\"Sos menor de edad.\")\n",
    "else:\n",
    "  print(\"Sos mayor de edad.\")\n"
   ]
  },
  {
   "cell_type": "code",
   "execution_count": null,
   "metadata": {
    "colab": {
     "base_uri": "https://localhost:8080/",
     "height": 52
    },
    "id": "ze7zVQbBB3A5",
    "outputId": "25c0e9e8-e669-407f-d2b0-f424f81bed4b"
   },
   "outputs": [
    {
     "name": "stdout",
     "output_type": "stream",
     "text": [
      "Ingrese una contraseña: Contraseña1234\n",
      "La contraseña coincide\n"
     ]
    }
   ],
   "source": [
    "'''\n",
    "Ejercicio 9:\n",
    "Crear un programa que almacene la cadena de caracteres contraseña en \n",
    "una variable, pregunte al usuario por la contraseña e imprima por pantalla \n",
    "si la contraseña introducida por el usuario coincide con la guardada en \n",
    "la variable sin tener en cuenta mayúsculas y minúsculas.\n",
    "'''\n",
    "\n",
    "contraseña = \"Contraseña1234\"\n",
    "contraseña1 = str(input(\"Ingrese una contraseña: \"))\n",
    "if contraseña == contraseña1:\n",
    "  print(\"La contraseña coincide\")\n",
    "else:\n",
    "  print(\"La contraseña no coincide\")"
   ]
  },
  {
   "cell_type": "code",
   "execution_count": null,
   "metadata": {
    "colab": {
     "base_uri": "https://localhost:8080/",
     "height": 104
    },
    "id": "rpEma7mTGc4U",
    "outputId": "93078d1c-03d3-4057-d5e0-eb8f8e2cb202"
   },
   "outputs": [
    {
     "name": "stdout",
     "output_type": "stream",
     "text": [
      "Ingrese su primer número: 34\n",
      "Ingrese su segundo número mayor que cero: 45\n",
      "\n",
      "0.7555555555555555\n",
      "1\n"
     ]
    }
   ],
   "source": [
    "'''\n",
    "Ejercicio 10:\n",
    "Crear un programa que pida al usuario dos números y muestre por pantalla \n",
    "el cociente de la división entre ellos siempre que el segundo\n",
    "número sea distinto de 0.\n",
    "'''\n",
    "\n",
    "numero_1 = int(input(\"Ingrese su primer número: \"))\n",
    "numero_2 = int(input(\"Ingrese su segundo número mayor que cero: \"))\n",
    "print()\n",
    "print(numero_1 / numero_2)\n",
    "print(round(numero_1 / numero_2))"
   ]
  },
  {
   "cell_type": "code",
   "execution_count": null,
   "metadata": {
    "colab": {
     "base_uri": "https://localhost:8080/",
     "height": 52
    },
    "id": "ukRTOqlI_1ph",
    "outputId": "0e0ceaff-b61a-4505-b134-cda60be07a9c"
   },
   "outputs": [
    {
     "name": "stdout",
     "output_type": "stream",
     "text": [
      "Ingrese un número entero: 45\n",
      "Su número es impar\n"
     ]
    }
   ],
   "source": [
    "'''\n",
    "Ejercicio 11:\n",
    "Crear un programa que pida al usuario un número entero y \n",
    "muestre por pantalla si es par o impar.\n",
    "'''\n",
    "\n",
    "numero = int(input(\"Ingrese un número entero: \"))\n",
    "\n",
    "if numero %2 == 0:\n",
    "  print(\"Tu número es par\")\n",
    "else:\n",
    "  print(\"Su número es impar\")"
   ]
  },
  {
   "cell_type": "code",
   "execution_count": null,
   "metadata": {
    "colab": {
     "base_uri": "https://localhost:8080/",
     "height": 52
    },
    "id": "hpWtBc-zAX14",
    "outputId": "2615657a-8218-47e9-9b0f-97a7f8401165"
   },
   "outputs": [
    {
     "name": "stdout",
     "output_type": "stream",
     "text": [
      "Ingrese una palabra: arroz\n",
      "arroz arroz arroz arroz arroz arroz arroz arroz arroz arroz \n"
     ]
    }
   ],
   "source": [
    "'''\n",
    "Ejercicio 12:\n",
    "Crear un programa que pida al usuario una palabra y\n",
    "la muestre por pantalla 10 veces.\n",
    "'''\n",
    "\n",
    "palabra = input(\"Ingrese una palabra: \")\n",
    "\n",
    "print((palabra + \" \") * 10)"
   ]
  },
  {
   "cell_type": "code",
   "execution_count": null,
   "metadata": {
    "colab": {
     "base_uri": "https://localhost:8080/",
     "height": 119
    },
    "id": "Vx5sHlLCBbDU",
    "outputId": "a8ac0de7-d618-4f90-e416-ca911a8c8d66"
   },
   "outputs": [
    {
     "name": "stdout",
     "output_type": "stream",
     "text": [
      "123\n",
      "pancho\n",
      "hamburguesa\n",
      "False\n",
      "34\n",
      "(1, 5)\n"
     ]
    }
   ],
   "source": [
    "'''\n",
    "Ejercicio 13:\n",
    "Crear una lista con 6 elementos, luego recorrerla e \n",
    "imprimir elemento a elemento en renglones distintos.\n",
    "'''\n",
    "\n",
    "lista = [123, \"pancho\", \"hamburguesa\", False, (34), (1, 5)]\n",
    "for i in lista:\n",
    "  print(i)"
   ]
  },
  {
   "cell_type": "code",
   "execution_count": 8,
   "metadata": {
    "colab": {
     "base_uri": "https://localhost:8080/",
     "height": 102
    },
    "id": "yGa-O4wPBpCx",
    "outputId": "8c9b4282-a0b7-48f7-ae06-b5ff21ec301d"
   },
   "outputs": [
    {
     "name": "stdout",
     "output_type": "stream",
     "text": [
      "Nombre ---> Sköll\n",
      "Raza ---> No tiene\n",
      "Edad ---> 7\n",
      "Pelaje ---> Corto\n",
      "Color ---> Naranja\n"
     ]
    }
   ],
   "source": [
    "'''\n",
    "Ejercicio 14:\n",
    "Crear un programa que recorra un diccionario previamente creado y \n",
    "muestre por pantalla:\n",
    "> clave → valor\n",
    "'''\n",
    "\n",
    "diccionario_gatos = {\n",
    "        \"Nombre\": \"Sköll\",\n",
    "        \"Raza\": \"No tiene\",\n",
    "        \"Edad\": 7,\n",
    "        \"Pelaje\": \"Corto\",\n",
    "        \"Color\": \"Naranja\" \n",
    "        }\n",
    "\n",
    "for key, value in diccionario_gatos.items():\n",
    "  print(f\"{key} ---> {value}\")"
   ]
  },
  {
   "cell_type": "code",
   "execution_count": 10,
   "metadata": {
    "colab": {
     "base_uri": "https://localhost:8080/",
     "height": 190
    },
    "id": "Kw9cjlonBrB7",
    "outputId": "cabf0d81-51d9-40da-8975-d3ed7bbdab2b"
   },
   "outputs": [
    {
     "name": "stdin",
     "output_type": "stream",
     "text": [
      "Ingrese una palabra:  hola\n"
     ]
    },
    {
     "name": "stdout",
     "output_type": "stream",
     "text": [
      "hola\n"
     ]
    },
    {
     "name": "stdin",
     "output_type": "stream",
     "text": [
      "Ingrese una palabra:  hello\n"
     ]
    },
    {
     "name": "stdout",
     "output_type": "stream",
     "text": [
      "hello\n"
     ]
    },
    {
     "name": "stdin",
     "output_type": "stream",
     "text": [
      "Ingrese una palabra:  shalom\n"
     ]
    },
    {
     "name": "stdout",
     "output_type": "stream",
     "text": [
      "shalom\n"
     ]
    },
    {
     "name": "stdin",
     "output_type": "stream",
     "text": [
      "Ingrese una palabra:  ciao\n"
     ]
    },
    {
     "name": "stdout",
     "output_type": "stream",
     "text": [
      "ciao\n"
     ]
    },
    {
     "name": "stdin",
     "output_type": "stream",
     "text": [
      "Ingrese una palabra:  salir\n"
     ]
    },
    {
     "name": "stdout",
     "output_type": "stream",
     "text": [
      "salir\n"
     ]
    }
   ],
   "source": [
    "'''\n",
    "Ejercicio 15:\n",
    "Crear un programa que imprima por pantalla todo lo que el usuario ingresa \n",
    "hasta que ingresa la palabra “salir”.\n",
    "'''\n",
    "\n",
    "while True: # Quiere decir \"Mientras sea verdad algo\" es un loop infinito por ende necesita cortarse con un BREAK\n",
    "  palabras = input(\"Ingrese una palabra: \")\n",
    "  print(palabras)\n",
    "  if palabras == \"salir\":\n",
    "    break"
   ]
  },
  {
   "cell_type": "code",
   "execution_count": null,
   "metadata": {},
   "outputs": [],
   "source": []
  }
 ],
 "metadata": {
  "colab": {
   "collapsed_sections": [],
   "name": "Práctica Clase 4",
   "provenance": []
  },
  "kernelspec": {
   "display_name": "Python 3",
   "language": "python",
   "name": "python3"
  },
  "language_info": {
   "codemirror_mode": {
    "name": "ipython",
    "version": 3
   },
   "file_extension": ".py",
   "mimetype": "text/x-python",
   "name": "python",
   "nbconvert_exporter": "python",
   "pygments_lexer": "ipython3",
   "version": "3.9.1"
  }
 },
 "nbformat": 4,
 "nbformat_minor": 4
}
